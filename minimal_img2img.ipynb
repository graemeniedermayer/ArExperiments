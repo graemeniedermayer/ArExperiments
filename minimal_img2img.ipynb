{
  "nbformat": 4,
  "nbformat_minor": 0,
  "metadata": {
    "colab": {
      "provenance": [],
      "authorship_tag": "ABX9TyMt/eR/Vdm0hcMiwwR1xpfb",
      "include_colab_link": true
    },
    "kernelspec": {
      "name": "python3",
      "display_name": "Python 3"
    },
    "language_info": {
      "name": "python"
    }
  },
  "cells": [
    {
      "cell_type": "markdown",
      "metadata": {
        "id": "view-in-github",
        "colab_type": "text"
      },
      "source": [
        "<a href=\"https://colab.research.google.com/github/graemeniedermayer/ArExperiments/blob/main/minimal_img2img.ipynb\" target=\"_parent\"><img src=\"https://colab.research.google.com/assets/colab-badge.svg\" alt=\"Open In Colab\"/></a>"
      ]
    },
    {
      "cell_type": "markdown",
      "source": [
        "This is really a stripped down version of Stable Diffusion using diffusers notebook https://colab.research.google.com/github/huggingface/notebooks/blob/main/diffusers/stable_diffusion.ipynb "
      ],
      "metadata": {
        "id": "GnobPrS-cQHl"
      }
    },
    {
      "cell_type": "code",
      "execution_count": null,
      "metadata": {
        "id": "NeEXbmBKcFB5"
      },
      "outputs": [],
      "source": [
        "!pip install diffusers==0.3.0\n",
        "!pip install transformers scipy ftfy\n",
        "!pip install \"ipywidgets>=7,<8\""
      ]
    },
    {
      "cell_type": "markdown",
      "source": [
        "You also need to accept the model license before downloading or using the weights. In this post we'll use model version v1-4, so you'll need to visit its card, read the license and tick the checkbox if you agree.\n",
        "\n",
        "You have to be a registered user in 🤗 Hugging Face Hub, and you'll also need to use an access token for the code to work. For more information on access tokens, please refer to this section of the documentation.\n",
        "\n",
        "As google colab has disabled external widgtes, we need to enable it explicitly. Run the following cell to be able to use notebook_login"
      ],
      "metadata": {
        "id": "zS2e1KzlcOS2"
      }
    },
    {
      "cell_type": "code",
      "source": [
        "from google.colab import output\n",
        "output.enable_custom_widget_manager()\n",
        "from huggingface_hub import notebook_login\n",
        "\n",
        "notebook_login()"
      ],
      "metadata": {
        "id": "vUTX2UJHcvnb"
      },
      "execution_count": null,
      "outputs": []
    },
    {
      "cell_type": "markdown",
      "source": [
        "The next step should take a few minutes"
      ],
      "metadata": {
        "id": "cBJWrZAldCdJ"
      }
    },
    {
      "cell_type": "code",
      "source": [
        "import torch\n",
        "\n",
        "# make sure you're logged in with `huggingface-cli login`\n",
        "from diffusers import StableDiffusionImg2ImgPipeline\n",
        "pipe = StableDiffusionImg2ImgPipeline.from_pretrained(\"CompVis/stable-diffusion-v1-4\", revision=\"fp16\", torch_dtype=torch.float16).to(\"cuda\")"
      ],
      "metadata": {
        "id": "0jBySuLPc17S"
      },
      "execution_count": null,
      "outputs": []
    },
    {
      "cell_type": "markdown",
      "source": [
        "load the images to the file browser."
      ],
      "metadata": {
        "id": "6OPccW5idQ46"
      }
    },
    {
      "cell_type": "code",
      "source": [
        "from PIL import Image\n",
        "from torch import autocast\n",
        "prompts = ['hearts', 'bats', 'snowflakes', 'stars', 'flames', 'bubbles']\n",
        "\n",
        "imageNames =  ['particles']\n",
        "for imageName in imageNames:\n",
        "  init_image = Image.open(imageName+'.png').convert(\"RGB\")\n",
        "  init_image = init_image.resize(( 512,512))\n",
        "  for style in styles:\n",
        "    \n",
        "    prompt = style\n",
        "    with autocast(\"cuda\"):\n",
        "      images = pipe(prompt=prompt, init_image=init_image, strength=0.75, guidance_scale=10.5).images\n",
        "    images[0].save(url+style+\".png\")\n",
        "    images[0]"
      ],
      "metadata": {
        "id": "HpTG2DzUdL6S"
      },
      "execution_count": null,
      "outputs": []
    },
    {
      "cell_type": "markdown",
      "source": [
        "Make sure to either setup google drives or save all the files before the Colab instance is disconnected (if your not computing, colab will de-prioritize your instance)."
      ],
      "metadata": {
        "id": "ejo4fDtJdk0Z"
      }
    }
  ]
}