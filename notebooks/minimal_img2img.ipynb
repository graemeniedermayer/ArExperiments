{
  "cells": [
    {
      "cell_type": "markdown",
      "metadata": {
        "colab_type": "text",
        "id": "view-in-github"
      },
      "source": [
        "<a href=\"https://colab.research.google.com/github/graemeniedermayer/ArExperiments/blob/main/minimal_img2img.ipynb\" target=\"_parent\"><img src=\"https://colab.research.google.com/assets/colab-badge.svg\" alt=\"Open In Colab\"/></a>"
      ]
    },
    {
      "cell_type": "markdown",
      "metadata": {
        "id": "GnobPrS-cQHl"
      },
      "source": [
        "This is really a stripped down version of Stable Diffusion using diffusers notebook https://colab.research.google.com/github/huggingface/notebooks/blob/main/diffusers/stable_diffusion.ipynb "
      ]
    },
    {
      "cell_type": "code",
      "execution_count": null,
      "metadata": {
        "id": "NeEXbmBKcFB5"
      },
      "outputs": [],
      "source": [
        "!pip install diffusers==0.3.0\n",
        "!pip install transformers scipy ftfy\n",
        "!pip install \"ipywidgets>=7,<8\""
      ]
    },
    {
      "cell_type": "markdown",
      "metadata": {
        "id": "zS2e1KzlcOS2"
      },
      "source": [
        "You also need to accept the model license before downloading or using the weights. In this post we'll use model version v1-4, so you'll need to visit its card, read the license and tick the checkbox if you agree.\n",
        "\n",
        "You have to be a registered user in 🤗 Hugging Face Hub, and you'll also need to use an access token for the code to work. For more information on access tokens, please refer to this section of the documentation.\n",
        "\n",
        "As google colab has disabled external widgtes, we need to enable it explicitly. Run the following cell to be able to use notebook_login"
      ]
    },
    {
      "cell_type": "code",
      "execution_count": null,
      "metadata": {
        "id": "vUTX2UJHcvnb"
      },
      "outputs": [],
      "source": [
        "from google.colab import output\n",
        "output.enable_custom_widget_manager()\n",
        "from huggingface_hub import notebook_login\n",
        "\n",
        "notebook_login()"
      ]
    },
    {
      "cell_type": "markdown",
      "metadata": {
        "id": "cBJWrZAldCdJ"
      },
      "source": [
        "The next step should take a few minutes"
      ]
    },
    {
      "cell_type": "code",
      "execution_count": null,
      "metadata": {
        "id": "0jBySuLPc17S"
      },
      "outputs": [],
      "source": [
        "import torch\n",
        "\n",
        "# make sure you're logged in with `huggingface-cli login`\n",
        "from diffusers import StableDiffusionImg2ImgPipeline\n",
        "pipe = StableDiffusionImg2ImgPipeline.from_pretrained(\"CompVis/stable-diffusion-v1-4\", revision=\"fp16\", torch_dtype=torch.float16).to(\"cuda\")"
      ]
    },
    {
      "cell_type": "markdown",
      "metadata": {
        "id": "6OPccW5idQ46"
      },
      "source": [
        "load the images to the file browser."
      ]
    },
    {
      "cell_type": "code",
      "execution_count": null,
      "metadata": {
        "id": "HpTG2DzUdL6S"
      },
      "outputs": [],
      "source": [
        "from PIL import Image\n",
        "from torch import autocast\n",
        "prompts = ['hearts', 'bats', 'snowflakes', 'stars', 'flames', 'bubbles']\n",
        "\n",
        "imageNames =  ['particles']\n",
        "for imageName in imageNames:\n",
        "  init_image = Image.open(imageName+'.png').convert(\"RGB\")\n",
        "  init_image = init_image.resize(( 512,512))\n",
        "  for prompt in prompts:\n",
        "    \n",
        "    with autocast(\"cuda\"):\n",
        "      images = pipe(prompt=prompt, init_image=init_image, strength=0.75, guidance_scale=10.5).images\n",
        "    images[0].save(imageName+'_'+prompt+\".png\")\n",
        "    images[0]"
      ]
    },
    {
      "cell_type": "markdown",
      "metadata": {
        "id": "ejo4fDtJdk0Z"
      },
      "source": [
        "Make sure to either setup google drives or save all the files before the Colab instance is disconnected (if your not computing, colab will de-prioritize your instance)."
      ]
    }
  ],
  "metadata": {
    "colab": {
      "authorship_tag": "ABX9TyMt/eR/Vdm0hcMiwwR1xpfb",
      "include_colab_link": true,
      "provenance": []
    },
    "kernelspec": {
      "display_name": "Python 3",
      "name": "python3"
    },
    "language_info": {
      "name": "python"
    }
  },
  "nbformat": 4,
  "nbformat_minor": 0
}
